{
 "cells": [
  {
   "cell_type": "code",
   "execution_count": 1,
   "id": "ba2c8beb",
   "metadata": {},
   "outputs": [
    {
     "name": "stdout",
     "output_type": "stream",
     "text": [
      "Cloning into 'first-order-model'...\n",
      "remote: Enumerating objects: 347, done.\u001b[K\n",
      "remote: Counting objects: 100% (41/41), done.\u001b[K\n",
      "remote: Compressing objects: 100% (30/30), done.\u001b[K\n",
      "remote: Total 347 (delta 19), reused 25 (delta 11), pack-reused 306\u001b[K\n",
      "Receiving objects: 100% (347/347), 72.17 MiB | 14.28 MiB/s, done.\n",
      "Resolving deltas: 100% (178/178), done.\n"
     ]
    }
   ],
   "source": [
    "!git clone https://github.com/AliaksandrSiarohin/first-order-model"
   ]
  },
  {
   "cell_type": "code",
   "execution_count": 2,
   "id": "9e46bcd7",
   "metadata": {},
   "outputs": [
    {
     "name": "stdout",
     "output_type": "stream",
     "text": [
      "/Users/avnigoyal/Deepfakes/first-order-model\n",
      "Collecting ffmpeg-python\n",
      "  Downloading ffmpeg_python-0.2.0-py3-none-any.whl (25 kB)\n",
      "Requirement already satisfied: future in /opt/anaconda3/lib/python3.9/site-packages (from ffmpeg-python) (0.18.2)\n",
      "Installing collected packages: ffmpeg-python\n",
      "Successfully installed ffmpeg-python-0.2.0\n",
      "Requirement already satisfied: imageio in /opt/anaconda3/lib/python3.9/site-packages (2.9.0)\n",
      "Requirement already satisfied: numpy in /opt/anaconda3/lib/python3.9/site-packages (from imageio) (1.21.5)\n",
      "Requirement already satisfied: pillow in /opt/anaconda3/lib/python3.9/site-packages (from imageio) (9.0.1)\n",
      "Collecting imageio-ffmpeg\n",
      "  Downloading imageio_ffmpeg-0.4.8-py3-none-macosx_10_9_intel.macosx_10_9_x86_64.macosx_10_10_intel.macosx_10_10_x86_64.whl (22.5 MB)\n",
      "\u001b[K     |████████████████████████████████| 22.5 MB 3.6 MB/s eta 0:00:01\n",
      "\u001b[?25hInstalling collected packages: imageio-ffmpeg\n",
      "Successfully installed imageio-ffmpeg-0.4.8\n"
     ]
    }
   ],
   "source": [
    "%cd first-order-model\n",
    "!pip install ffmpeg-python\n",
    "!pip install imageio\n",
    "!pip install imageio-ffmpeg"
   ]
  },
  {
   "cell_type": "code",
   "execution_count": 26,
   "id": "f8914c79",
   "metadata": {},
   "outputs": [
    {
     "name": "stdout",
     "output_type": "stream",
     "text": [
      "Defaulting to user installation because normal site-packages is not writeable\n",
      "Requirement already satisfied: torch in /Users/avnigoyal/Library/Python/3.11/lib/python/site-packages (2.0.0)\n",
      "Requirement already satisfied: torchvision in /Users/avnigoyal/Library/Python/3.11/lib/python/site-packages (0.15.1)\n",
      "Requirement already satisfied: torchaudio in /Users/avnigoyal/Library/Python/3.11/lib/python/site-packages (2.0.1)\n",
      "Requirement already satisfied: filelock in /Users/avnigoyal/Library/Python/3.11/lib/python/site-packages (from torch) (3.12.0)\n",
      "Requirement already satisfied: typing-extensions in /Users/avnigoyal/Library/Python/3.11/lib/python/site-packages (from torch) (4.5.0)\n",
      "Requirement already satisfied: sympy in /Users/avnigoyal/Library/Python/3.11/lib/python/site-packages (from torch) (1.11.1)\n",
      "Requirement already satisfied: networkx in /Users/avnigoyal/Library/Python/3.11/lib/python/site-packages (from torch) (3.1)\n",
      "Requirement already satisfied: jinja2 in /Users/avnigoyal/Library/Python/3.11/lib/python/site-packages (from torch) (3.1.2)\n",
      "Requirement already satisfied: numpy in /Users/avnigoyal/Library/Python/3.11/lib/python/site-packages (from torchvision) (1.24.3)\n",
      "Requirement already satisfied: requests in /Users/avnigoyal/Library/Python/3.11/lib/python/site-packages (from torchvision) (2.30.0)\n",
      "Requirement already satisfied: pillow!=8.3.*,>=5.3.0 in /Users/avnigoyal/Library/Python/3.11/lib/python/site-packages (from torchvision) (9.5.0)\n",
      "Requirement already satisfied: MarkupSafe>=2.0 in /Users/avnigoyal/Library/Python/3.11/lib/python/site-packages (from jinja2->torch) (2.1.2)\n",
      "Requirement already satisfied: charset-normalizer<4,>=2 in /Users/avnigoyal/Library/Python/3.11/lib/python/site-packages (from requests->torchvision) (3.1.0)\n",
      "Requirement already satisfied: idna<4,>=2.5 in /Users/avnigoyal/Library/Python/3.11/lib/python/site-packages (from requests->torchvision) (3.4)\n",
      "Requirement already satisfied: urllib3<3,>=1.21.1 in /Users/avnigoyal/Library/Python/3.11/lib/python/site-packages (from requests->torchvision) (2.0.2)\n",
      "Requirement already satisfied: certifi>=2017.4.17 in /Users/avnigoyal/Library/Python/3.11/lib/python/site-packages (from requests->torchvision) (2022.12.7)\n",
      "Requirement already satisfied: mpmath>=0.19 in /Users/avnigoyal/Library/Python/3.11/lib/python/site-packages (from sympy->torch) (1.3.0)\n"
     ]
    }
   ],
   "source": [
    "!pip3 install torch torchvision torchaudio"
   ]
  },
  {
   "cell_type": "code",
   "execution_count": 30,
   "id": "dd137613",
   "metadata": {},
   "outputs": [],
   "source": [
    "import imageio \n",
    "import numpy as np \n",
    "import matplotlib.pyplot as plt\n",
    "import matplotlib.animation as animation\n",
    "from skimage.transform import resize \n",
    "from IPython.display import HTML\n",
    "import warnings \n",
    "warnings.filterwarnings(\"ignore\")"
   ]
  },
  {
   "cell_type": "code",
   "execution_count": 31,
   "id": "7922ec50",
   "metadata": {},
   "outputs": [],
   "source": [
    "def display(source, driving, generated=None):\n",
    "    fig = plt.figure(figsize=(8 + 4 * (generated is not None), 6))\n",
    "    \n",
    "    ims = []\n",
    "    for i in range(len(driving)):\n",
    "        cols = [source]\n",
    "        cols.append(driving[i])\n",
    "        if generated is not None:\n",
    "            cols.append(generated[i])\n",
    "        im = plt.imshow(np.concatenate(cols, axis=l), animated=True)\n",
    "        plt.axis('off')\n",
    "        ims.append([im])\n",
    "            \n",
    "        ani = animation.ArtistAnimation(fig, ims, interval=50, repeat_delay=1000)\n",
    "        plt.close()\n",
    "        return ani"
   ]
  },
  {
   "cell_type": "code",
   "execution_count": 32,
   "id": "a3004ae4",
   "metadata": {},
   "outputs": [
    {
     "ename": "ModuleNotFoundError",
     "evalue": "No module named 'torch'",
     "output_type": "error",
     "traceback": [
      "\u001b[0;31m---------------------------------------------------------------------------\u001b[0m",
      "\u001b[0;31mModuleNotFoundError\u001b[0m                       Traceback (most recent call last)",
      "Input \u001b[0;32mIn [32]\u001b[0m, in \u001b[0;36m<cell line: 1>\u001b[0;34m()\u001b[0m\n\u001b[0;32m----> 1\u001b[0m \u001b[38;5;28;01mfrom\u001b[39;00m \u001b[38;5;21;01mdemo\u001b[39;00m \u001b[38;5;28;01mimport\u001b[39;00m load_checkpoints\n\u001b[1;32m      2\u001b[0m generator, kp_detector \u001b[38;5;241m=\u001b[39m load_checkpoints (config_path\u001b[38;5;241m=\u001b[39m\u001b[38;5;124m'\u001b[39m\u001b[38;5;124m../first-orfer-model/config/vox-256.yaml\u001b[39m\u001b[38;5;124m'\u001b[39m, checkpoint_path\u001b[38;5;241m=\u001b[39m\u001b[38;5;124m'\u001b[39m\u001b[38;5;124m../vox-cpk.pth.tar\u001b[39m\u001b[38;5;124m'\u001b[39m)\n",
      "File \u001b[0;32m~/Deepfakes/first-order-model/demo.py:10\u001b[0m, in \u001b[0;36m<module>\u001b[0;34m\u001b[0m\n\u001b[1;32m      8\u001b[0m \u001b[38;5;28;01mfrom\u001b[39;00m \u001b[38;5;21;01mskimage\u001b[39;00m\u001b[38;5;21;01m.\u001b[39;00m\u001b[38;5;21;01mtransform\u001b[39;00m \u001b[38;5;28;01mimport\u001b[39;00m resize\n\u001b[1;32m      9\u001b[0m \u001b[38;5;28;01mfrom\u001b[39;00m \u001b[38;5;21;01mskimage\u001b[39;00m \u001b[38;5;28;01mimport\u001b[39;00m img_as_ubyte\n\u001b[0;32m---> 10\u001b[0m \u001b[38;5;28;01mimport\u001b[39;00m \u001b[38;5;21;01mtorch\u001b[39;00m\n\u001b[1;32m     11\u001b[0m \u001b[38;5;28;01mfrom\u001b[39;00m \u001b[38;5;21;01msync_batchnorm\u001b[39;00m \u001b[38;5;28;01mimport\u001b[39;00m DataParallelWithCallback\n\u001b[1;32m     13\u001b[0m \u001b[38;5;28;01mfrom\u001b[39;00m \u001b[38;5;21;01mmodules\u001b[39;00m\u001b[38;5;21;01m.\u001b[39;00m\u001b[38;5;21;01mgenerator\u001b[39;00m \u001b[38;5;28;01mimport\u001b[39;00m OcclusionAwareGenerator\n",
      "\u001b[0;31mModuleNotFoundError\u001b[0m: No module named 'torch'"
     ]
    }
   ],
   "source": [
    "from demo import load_checkpoints\n",
    "generator, kp_detector = load_checkpoints (config_path='../first-orfer-model/config/vox-256.yaml', checkpoint_path='../vox-cpk.pth.tar')"
   ]
  }
 ],
 "metadata": {
  "kernelspec": {
   "display_name": "Python 3 (ipykernel)",
   "language": "python",
   "name": "python3"
  },
  "language_info": {
   "codemirror_mode": {
    "name": "ipython",
    "version": 3
   },
   "file_extension": ".py",
   "mimetype": "text/x-python",
   "name": "python",
   "nbconvert_exporter": "python",
   "pygments_lexer": "ipython3",
   "version": "3.9.12"
  }
 },
 "nbformat": 4,
 "nbformat_minor": 5
}
